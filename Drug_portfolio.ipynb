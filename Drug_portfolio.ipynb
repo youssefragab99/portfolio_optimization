{
 "cells": [
  {
   "cell_type": "markdown",
   "metadata": {
    "id": "QP9AG3aFOZAC"
   },
   "source": [
    "# Drug Portfolio Selection\n",
    "\n",
    "Team: Adetoun, Chip, Lily, Matthias, Youssef\n",
    "\n",
    "Due: 2021-12-02"
   ]
  },
  {
   "cell_type": "markdown",
   "metadata": {
    "id": "9jxtSLoROZAH"
   },
   "source": [
    "## Setup"
   ]
  },
  {
   "cell_type": "code",
   "execution_count": 1,
   "metadata": {
    "colab": {
     "base_uri": "https://localhost:8080/",
     "height": 356
    },
    "executionInfo": {
     "elapsed": 289,
     "status": "error",
     "timestamp": 1638248599900,
     "user": {
      "displayName": "Youssef Ragab",
      "photoUrl": "https://lh3.googleusercontent.com/a-/AOh14GgahTG1P5py0u2bImNwiXuEJTYJSEg0vhCmdYS7EA=s64",
      "userId": "04901357243982149261"
     },
     "user_tz": 300
    },
    "id": "FPVjRBGwOZAH",
    "outputId": "d662b46b-bfc3-41ca-cf95-fc01545ab127"
   },
   "outputs": [],
   "source": [
    "import gurobipy as gp\n",
    "from gurobipy import GRB\n",
    "from math import sqrt\n",
    "import pandas as pd\n",
    "import numpy as np\n",
    "import matplotlib\n",
    "matplotlib.use('Agg')\n",
    "import matplotlib.pyplot as plt"
   ]
  },
  {
   "cell_type": "markdown",
   "metadata": {
    "id": "zP--OEu0OZAJ"
   },
   "source": [
    "## Data and Assumptions\n",
    "\n",
    "*Author's note: we transformed the drug project data into a tidy format for ease of use. Some steps from the assignment template have been revised accordingly.*"
   ]
  },
  {
   "cell_type": "markdown",
   "metadata": {
    "id": "64rzdkEDOZAJ"
   },
   "source": [
    "Drug project data:"
   ]
  },
  {
   "cell_type": "code",
   "execution_count": 2,
   "metadata": {
    "id": "u5BL8a4gOZAJ"
   },
   "outputs": [],
   "source": [
    "# Import drug data and transform into a tidy data frame\n",
    "data = pd.read_csv('drugs.csv', index_col=0, header=None).transpose()\n",
    "data = data.set_axis(['project', 'ta','time_to_market','revenue','cost'], axis=1, inplace=False)\n",
    "data = data.astype({'project': int, 'ta': str, 'time_to_market': int, 'revenue': float, 'cost': float})\n",
    "\n",
    "projects = data['project']\n",
    "t_area = data['ta']           # therapeutic area\n",
    "ttm = data['time_to_market']  # in years (whole numbers)\n",
    "rev = data['revenue']         # in millions\n",
    "cost = data['cost']           # in millions\n",
    "\n",
    "#import covariance matrix\n",
    "cov=pd.read_csv('drugs_cov.csv', index_col=0)\n",
    "\n",
    "# creates lower triangular matrix needed in Value at Risk analysis in Q4 using Cholesky factorization\n",
    "# Note that this results in L to be in matrix format (i.e., not in the dataframe format anymore)\n",
    "L = np.linalg.cholesky(cov)"
   ]
  },
  {
   "cell_type": "markdown",
   "metadata": {
    "id": "1dLNgfZvOZAK"
   },
   "source": [
    "Therapeutic areas, budgets, and risk-free rate of return:"
   ]
  },
  {
   "cell_type": "code",
   "execution_count": 3,
   "metadata": {
    "id": "flqKO6-dOZAK"
   },
   "outputs": [],
   "source": [
    "#therapeutic areas\n",
    "ther=[\n",
    "\"Oncology\", \"Cardiovascular\", \"Respiratory and dermatology\", \"Transplantation\",\n",
    "\"Rheumatology and hormone therapy\", \"Central nervous system\", \"Ophtalmics\"]\n",
    "\n",
    "#budget constraints for therapeutic areas\n",
    "t_bud={\"Oncology\": 100,\n",
    "       \"Cardiovascular\": 200,\n",
    "       \"Respiratory and dermatology\": 150,\n",
    "       \"Transplantation\": 100,\n",
    "       \"Rheumatology and hormone therapy\": 300,\n",
    "       \"Central nervous system\": 100,\n",
    "       \"Ophtalmics\": 50}\n",
    "\n",
    "interest_rate=0.03\n",
    "\n",
    "base_budget=1000\n",
    "\n",
    "additional_budget=50"
   ]
  },
  {
   "cell_type": "markdown",
   "metadata": {
    "id": "sMfuVSMDOZAL"
   },
   "source": [
    "## Model 2A - Without $50MM Extra"
   ]
  },
  {
   "cell_type": "markdown",
   "metadata": {
    "id": "DYYVliDeOZAL"
   },
   "source": [
    "Initialize empty model:"
   ]
  },
  {
   "cell_type": "code",
   "execution_count": 4,
   "metadata": {
    "id": "26XyeHLpOZAL"
   },
   "outputs": [
    {
     "name": "stdout",
     "output_type": "stream",
     "text": [
      "Academic license - for non-commercial use only - expires 2022-09-25\n",
      "Using license file /Users/youssefragab/gurobi.lic\n"
     ]
    }
   ],
   "source": [
    "m = gp.Model('portfolio')"
   ]
  },
  {
   "cell_type": "markdown",
   "metadata": {
    "id": "ZFkxyrbtOZAM"
   },
   "source": [
    "Decision variable (whether or not to invest in each project):"
   ]
  },
  {
   "cell_type": "code",
   "execution_count": 5,
   "metadata": {
    "id": "ndNK6tl0OZAM"
   },
   "outputs": [],
   "source": [
    "x = pd.Series(m.addVars(projects, vtype = GRB.BINARY), index=projects)"
   ]
  },
  {
   "cell_type": "code",
   "execution_count": 6,
   "metadata": {
    "id": "n5SOQ-wUOZAN"
   },
   "outputs": [],
   "source": [
    "#define covariance for each project\n",
    "portfolio_risk = np.dot(np.dot(np.transpose(x),cov), x)"
   ]
  },
  {
   "cell_type": "markdown",
   "metadata": {
    "id": "-r6O6uQpOZAN"
   },
   "source": [
    "Constraints:"
   ]
  },
  {
   "cell_type": "code",
   "execution_count": 7,
   "metadata": {
    "id": "yZypZSG6OZAN"
   },
   "outputs": [
    {
     "name": "stdout",
     "output_type": "stream",
     "text": [
      "Warning: Q constraint 0 doesn't have a name\n"
     ]
    }
   ],
   "source": [
    "# $1 billion total budget\n",
    "m.addConstr(sum(x[i] * cost[i] for i in projects) <= base_budget)\n",
    "\n",
    "# TA-level budgets\n",
    "for t in ther:\n",
    "  m.addConstr(sum(x[i] * cost[i] for i in projects if t_area[i] == t) <= t_bud[t])\n",
    "\n",
    "# Pipeline balance\n",
    "m.addConstr(sum(x[i] for i in projects if ttm[i] == 1) >= 0.15 * sum(x[i] for i in projects))\n",
    "m.addConstr(sum(x[i] for i in projects if ttm[i] in (2,3)) >= 0.20 * sum(x[i] for i in projects))\n",
    "m.addConstr(sum(x[i] for i in projects if ttm[i] in (4,5)) >= 0.25 * sum(x[i] for i in projects))\n",
    "\n",
    "#risk constraint which minimizes the variance of the project returns\n",
    "#comment constraint out and rerun model at different variance levels to capture return\n",
    "m.addConstr(portfolio_risk<=1.59E+04)\n",
    "\n",
    "# For validation\n",
    "m.write(\"model.lp\")\n"
   ]
  },
  {
   "cell_type": "markdown",
   "metadata": {
    "id": "UGHb-Z7LOZAO"
   },
   "source": [
    "Objective function (maximize revenue plus return on uninvested funds minus total budget):"
   ]
  },
  {
   "cell_type": "code",
   "execution_count": 8,
   "metadata": {
    "id": "n363MCnWOZAO"
   },
   "outputs": [
    {
     "name": "stdout",
     "output_type": "stream",
     "text": [
      "Warning: Q constraint 0 doesn't have a name\n"
     ]
    }
   ],
   "source": [
    "tot_rev = sum(x[i] * rev[i] for i in projects)\n",
    "\n",
    "tot_cost = sum(x[i] * cost[i] for i in projects)\n",
    "\n",
    "uninvested_return = interest_rate * (base_budget - tot_cost)\n",
    "\n",
    "m.setObjective(tot_rev + uninvested_return - base_budget, GRB.MAXIMIZE)\n",
    "  \n",
    "# For validation\n",
    "m.write(\"model.lp\")"
   ]
  },
  {
   "cell_type": "markdown",
   "metadata": {
    "id": "th6W6SCGOZAP"
   },
   "source": [
    "### Model 2A Results"
   ]
  },
  {
   "cell_type": "code",
   "execution_count": 9,
   "metadata": {
    "id": "xmlFyhUaOZAP"
   },
   "outputs": [
    {
     "name": "stdout",
     "output_type": "stream",
     "text": [
      "Gurobi Optimizer version 9.1.2 build v9.1.2rc0 (mac64)\n",
      "Thread count: 6 physical cores, 12 logical processors, using up to 12 threads\n",
      "Optimize a model with 11 rows, 114 columns and 568 nonzeros\n",
      "Model fingerprint: 0x39450584\n",
      "Model has 1 quadratic constraint\n",
      "Variable types: 0 continuous, 114 integer (114 binary)\n",
      "Coefficient statistics:\n",
      "  Matrix range     [1e-01, 2e+02]\n",
      "  QMatrix range    [1e-01, 5e+06]\n",
      "  Objective range  [1e+00, 3e+03]\n",
      "  Bounds range     [1e+00, 1e+00]\n",
      "  RHS range        [5e+01, 1e+03]\n",
      "  QRHS range       [2e+04, 2e+04]\n",
      "Found heuristic solution: objective -970.0000000\n",
      "Presolve removed 8 rows and 39 columns\n",
      "Presolve time: 0.00s\n",
      "Presolved: 3 rows, 75 columns, 225 nonzeros\n",
      "Presolved model has 1 quadratic constraint(s)\n",
      "Variable types: 0 continuous, 75 integer (75 binary)\n",
      "\n",
      "Root relaxation: objective 3.646727e+02, 1 iterations, 0.00 seconds\n",
      "\n",
      "    Nodes    |    Current Node    |     Objective Bounds      |     Work\n",
      " Expl Unexpl |  Obj  Depth IntInf | Incumbent    BestBd   Gap | It/Node Time\n",
      "\n",
      "     0     0   69.12188    0    2 -970.00000   69.12188   107%     -    0s\n",
      "H    0     0                    -169.6333000   69.12188   141%     -    0s\n",
      "H    0     0                     -31.6489000   69.12188   318%     -    0s\n",
      "     0     0   16.27707    0    2  -31.64890   16.27707   151%     -    0s\n",
      "     0     0   10.29758    0    2  -31.64890   10.29758   133%     -    0s\n",
      "\n",
      "Cutting planes:\n",
      "  Gomory: 1\n",
      "\n",
      "Explored 1 nodes (24 simplex iterations) in 0.03 seconds\n",
      "Thread count was 12 (of 12 available processors)\n",
      "\n",
      "Solution count 3: -31.6489 -169.633 -970 \n",
      "No other solutions better than -31.6489\n",
      "\n",
      "Optimal solution found (tolerance 1.00e-04)\n",
      "Best objective -3.164890000000e+01, best bound -3.164890000000e+01, gap 0.0000%\n"
     ]
    }
   ],
   "source": [
    "# Optimize model to find max rev\n",
    "m.optimize()"
   ]
  },
  {
   "cell_type": "code",
   "execution_count": 10,
   "metadata": {
    "id": "eZkIqz9VOZAP"
   },
   "outputs": [
    {
     "name": "stdout",
     "output_type": "stream",
     "text": [
      "Variance   = 14330.1\n"
     ]
    }
   ],
   "source": [
    "print('Variance   = %g' % portfolio_risk.getValue())"
   ]
  },
  {
   "cell_type": "code",
   "execution_count": 11,
   "metadata": {
    "id": "Mrm7ZFUsOZAQ"
   },
   "outputs": [],
   "source": [
    "# Create an expression representing the expected return for the portfolio\n",
    "portfolio_return = tot_rev"
   ]
  },
  {
   "cell_type": "code",
   "execution_count": 12,
   "metadata": {
    "id": "IP_TG9jtOZAQ"
   },
   "outputs": [
    {
     "name": "stdout",
     "output_type": "stream",
     "text": [
      "total return:  -31.648900000000026\n"
     ]
    }
   ],
   "source": [
    "# total return = revenue plus return on uninvested funds minus budget\n",
    "print(\"total return: \", m.objVal) "
   ]
  },
  {
   "cell_type": "code",
   "execution_count": 13,
   "metadata": {
    "id": "-UwdAsMfOZAQ"
   },
   "outputs": [
    {
     "name": "stdout",
     "output_type": "stream",
     "text": [
      "Invested in project C44\n",
      "Invested in project C58\n",
      "Invested in project C68\n",
      "Invested in project C72\n",
      "Invested in project C97\n",
      "Invested in project C110\n"
     ]
    }
   ],
   "source": [
    "for v in m.getVars():\n",
    "  if v.x == 1:\n",
    "    print(\"Invested in project\", v.varName)"
   ]
  },
  {
   "cell_type": "code",
   "execution_count": 14,
   "metadata": {
    "id": "B83U8XEVOZAR"
   },
   "outputs": [
    {
     "name": "stdout",
     "output_type": "stream",
     "text": [
      "Invested 65.63 million dollars into 6 projects.\n"
     ]
    }
   ],
   "source": [
    "# this loop feels a really dumb way to calculate this, feel free to improve\n",
    "spent = 0\n",
    "n = 0\n",
    "for i in projects:\n",
    "  if m.getVars()[i - 1].x == 1:\n",
    "    spent += cost[i]\n",
    "    n += 1\n",
    "\n",
    "print(\"Invested\", spent, \"million dollars into\", n, \"projects.\")"
   ]
  },
  {
   "cell_type": "markdown",
   "metadata": {
    "id": "JA8a7jhBOZAR"
   },
   "source": [
    "### Model 2A Efficient Frontier Illustration"
   ]
  },
  {
   "cell_type": "markdown",
   "metadata": {
    "id": "X6OorD8dOZAS"
   },
   "source": [
    "Click to view [Efficient Frontier illustration](https://drive.google.com/file/d/1JiSkXC6R83v1NpH0Z7l0lOs70cRGVP9N/view?usp=sharing)"
   ]
  },
  {
   "cell_type": "markdown",
   "metadata": {
    "id": "fc35b680"
   },
   "source": [
    "## Model 2B - With $50MM Extra"
   ]
  },
  {
   "cell_type": "markdown",
   "metadata": {
    "id": "84dc2efe"
   },
   "source": [
    "Run model with different RHS values for the right hand side of the portfolio risk constraint:"
   ]
  },
  {
   "cell_type": "code",
   "execution_count": 15,
   "metadata": {
    "id": "a8b53b68"
   },
   "outputs": [],
   "source": [
    "portfolio_risk_rhs = 1.80E+07"
   ]
  },
  {
   "cell_type": "code",
   "execution_count": 16,
   "metadata": {
    "id": "9e4ebea6"
   },
   "outputs": [],
   "source": [
    "# Initialize similar model\n",
    "m = gp.Model('portfolio')\n",
    "\n",
    "# With similar decision variables\n",
    "x = m.addVars(projects, vtype = GRB.BINARY, name = 'x')"
   ]
  },
  {
   "cell_type": "markdown",
   "metadata": {
    "id": "89571682"
   },
   "source": [
    "Additional budget helpers:"
   ]
  },
  {
   "cell_type": "code",
   "execution_count": 17,
   "metadata": {
    "id": "EJRQHzJrOZAU"
   },
   "outputs": [
    {
     "data": {
      "text/plain": [
       "<gurobi.Constr *Awaiting Model Update*>"
      ]
     },
     "execution_count": 17,
     "metadata": {},
     "output_type": "execute_result"
    }
   ],
   "source": [
    "# Decision variable for assigning additional budget to TAs\n",
    "b = m.addVars(ther, vtype = GRB.BINARY, name = 'b')\n",
    "\n",
    "# Dictionary of additional funds per TA\n",
    "t_bud_extra = t_bud.copy()\n",
    "\n",
    "# Assign zero or additional budget to the copy dictionary\n",
    "for t in ther:\n",
    "  t_bud_extra[t] = additional_budget * b[t]\n",
    "\n",
    "# Allow up to 1 additional budget assignment\n",
    "m.addConstr(sum(b[t] for t in ther) <= 1)\n",
    "\n",
    "# Note: the TA-level budget constraint in the next cell has also been updated"
   ]
  },
  {
   "cell_type": "markdown",
   "metadata": {
    "id": "74212256"
   },
   "source": [
    "Similar constraints and objective function as before (except for the additional budget):"
   ]
  },
  {
   "cell_type": "code",
   "execution_count": 18,
   "metadata": {
    "id": "4b0cab30"
   },
   "outputs": [
    {
     "name": "stdout",
     "output_type": "stream",
     "text": [
      "Warning: variable name \"b[Respiratory and dermatology]\" has a space\n",
      "Warning: to let Gurobi read it back, use rlp format\n"
     ]
    }
   ],
   "source": [
    "# $1 billion total budget\n",
    "m.addConstr(sum(x[i] * cost[i] for i in projects) <= base_budget + additional_budget)\n",
    "\n",
    "# TA-level budgets (base plus extra $50MM)\n",
    "for t in ther:\n",
    "  m.addConstr(sum(x[i] * cost[i] for i in projects if t_area[i] == t) <= t_bud[t] + t_bud_extra[t])\n",
    "\n",
    "# Pipeline balance\n",
    "m.addConstr(sum(x[i] for i in projects if ttm[i] == 1) >= 0.15 * sum(x[i] for i in projects))\n",
    "m.addConstr(sum(x[i] for i in projects if ttm[i] in (2,3)) >= 0.20 * sum(x[i] for i in projects))\n",
    "m.addConstr(sum(x[i] for i in projects if ttm[i] in (4,5)) >= 0.25 * sum(x[i] for i in projects))\n",
    "\n",
    "# Objective function\n",
    "tot_rev = sum(x[i] * rev[i] for i in projects)\n",
    "tot_cost = sum(x[i] * cost[i] for i in projects)\n",
    "uninvested_return = interest_rate * (base_budget - tot_cost)\n",
    "m.setObjective(tot_rev + uninvested_return - base_budget, GRB.MAXIMIZE)\n",
    "  \n",
    "# For validation\n",
    "m.write(\"model.lp\")"
   ]
  },
  {
   "cell_type": "markdown",
   "metadata": {
    "id": "b248639b"
   },
   "source": [
    "Add a portfolio risk constraint.  Use a subset of the constraints used to make the efficient frontier."
   ]
  },
  {
   "cell_type": "code",
   "execution_count": 19,
   "metadata": {
    "id": "07612abd"
   },
   "outputs": [],
   "source": [
    "#define covariance for each project\n",
    "x_for_risk = pd.Series(x, index=projects)\n",
    "portfolio_risk = np.dot(np.dot(np.transpose(x_for_risk),cov), x_for_risk)"
   ]
  },
  {
   "cell_type": "code",
   "execution_count": 20,
   "metadata": {
    "id": "1d0500a6"
   },
   "outputs": [
    {
     "data": {
      "text/plain": [
       "<gurobi.QConstr Not Yet Added>"
      ]
     },
     "execution_count": 20,
     "metadata": {},
     "output_type": "execute_result"
    }
   ],
   "source": [
    "m.addConstr(portfolio_risk <= portfolio_risk_rhs)"
   ]
  },
  {
   "cell_type": "markdown",
   "metadata": {
    "id": "9062e8c6"
   },
   "source": [
    "### Model 2B Results"
   ]
  },
  {
   "cell_type": "code",
   "execution_count": 21,
   "metadata": {
    "id": "b10ce8a0"
   },
   "outputs": [],
   "source": [
    "m.setParam('OutputFlag', 0) # run silently\n",
    "m.optimize()"
   ]
  },
  {
   "cell_type": "code",
   "execution_count": 22,
   "metadata": {
    "id": "05575497"
   },
   "outputs": [
    {
     "name": "stdout",
     "output_type": "stream",
     "text": [
      "Total return:  21769.355499999998\n",
      "Variance   = 1.79976e+07\n"
     ]
    }
   ],
   "source": [
    "print(\"Total return: \", m.objVal) \n",
    "\n",
    "print('Variance   = %g' % portfolio_risk.getValue())"
   ]
  },
  {
   "cell_type": "code",
   "execution_count": 23,
   "metadata": {
    "id": "288cf324"
   },
   "outputs": [
    {
     "name": "stdout",
     "output_type": "stream",
     "text": [
      "Invested in project x[3]\n",
      "Invested in project x[4]\n",
      "Invested in project x[5]\n",
      "Invested in project x[6]\n",
      "Invested in project x[17]\n",
      "Invested in project x[20]\n",
      "Invested in project x[21]\n",
      "Invested in project x[22]\n",
      "Invested in project x[24]\n",
      "Invested in project x[25]\n",
      "Invested in project x[26]\n",
      "Invested in project x[27]\n",
      "Invested in project x[28]\n",
      "Invested in project x[29]\n",
      "Invested in project x[30]\n",
      "Invested in project x[39]\n",
      "Invested in project x[40]\n",
      "Invested in project x[42]\n",
      "Invested in project x[44]\n",
      "Invested in project x[45]\n",
      "Invested in project x[46]\n",
      "Invested in project x[47]\n",
      "Invested in project x[48]\n",
      "Invested in project x[50]\n",
      "Invested in project x[53]\n",
      "Invested in project x[57]\n",
      "Invested in project x[58]\n",
      "Invested in project x[61]\n",
      "Invested in project x[62]\n",
      "Invested in project x[66]\n",
      "Invested in project x[69]\n",
      "Invested in project x[72]\n",
      "Invested in project x[76]\n",
      "Invested in project x[77]\n",
      "Invested in project x[78]\n",
      "Invested in project x[86]\n",
      "Invested in project x[87]\n",
      "Invested in project x[91]\n",
      "Invested in project x[94]\n",
      "Invested in project x[97]\n",
      "Invested in project x[98]\n",
      "Invested in project x[99]\n",
      "Invested in project x[100]\n",
      "Invested in project x[101]\n",
      "Invested in project x[102]\n",
      "Invested in project x[103]\n",
      "Invested in project x[104]\n",
      "Invested in project x[105]\n",
      "Invested in project x[106]\n",
      "Invested in project x[109]\n",
      "Invested in project x[110]\n",
      "Invested in project x[111]\n",
      "Invested in project x[112]\n",
      "Invested in project b[Respiratory and dermatology]\n"
     ]
    }
   ],
   "source": [
    "for v in m.getVars():\n",
    "  if v.x == 1:\n",
    "    print(\"Invested in project\", v.varName)"
   ]
  },
  {
   "cell_type": "markdown",
   "metadata": {
    "id": "66e7245b"
   },
   "source": [
    "### Model 2B Remarks\n",
    "\n",
    "The optimal therapeutic area deployment for the extra $50MM depends on Zinca's risk tolerance. With high tolerance, the company should invest in Respiratory and Dermatology because that choice maximizes total return (over $20Bn).  With the least tolerance, they should invest in Central nervous system (although this strategy barely breaks even, e.g. returning only $16K on a portfolio with 126 standard deviation).\n",
    "\n",
    "Without knowing Zinca's risk tolerance, I would recommend Respiratory and Dermatology.  This is because there is a clear elbow in the efficiency frontier, and this therapeutic area straddles both sides of that elbow.  This is a good sign that choosing that TA offers an efficient risk:reward ratio."
   ]
  }
 ],
 "metadata": {
  "colab": {
   "name": "drug2_v4_CB20211129.ipynb",
   "provenance": []
  },
  "kernelspec": {
   "display_name": "Python 3",
   "language": "python",
   "name": "python3"
  },
  "language_info": {
   "codemirror_mode": {
    "name": "ipython",
    "version": 3
   },
   "file_extension": ".py",
   "mimetype": "text/x-python",
   "name": "python",
   "nbconvert_exporter": "python",
   "pygments_lexer": "ipython3",
   "version": "3.8.10"
  }
 },
 "nbformat": 4,
 "nbformat_minor": 5
}